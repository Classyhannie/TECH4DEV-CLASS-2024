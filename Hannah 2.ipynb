{
 "cells": [
  {
   "cell_type": "markdown",
   "id": "8d2ea5df",
   "metadata": {},
   "source": [
    "Write a program to produce the following output using for loop\n",
    "+\n",
    "\\ / /\n",
    "\\ / /\n",
    "\\ / / \\\n",
    "\n",
    "+"
   ]
  },
  {
   "cell_type": "code",
   "execution_count": null,
   "id": "f1016a40",
   "metadata": {},
   "outputs": [],
   "source": []
  },
  {
   "cell_type": "code",
   "execution_count": 1,
   "id": "7ad2c75d",
   "metadata": {},
   "outputs": [
    {
     "name": "stdout",
     "output_type": "stream",
     "text": [
      "+ +\n",
      "\\ /\n",
      "/ \\\n",
      "\\ /\n",
      "/ \\\n",
      "\\ /\n",
      "/ \\\n",
      "+ +\n"
     ]
    }
   ],
   "source": [
    "# Print the first line\n",
    "print(\"+ +\")\n",
    "\n",
    "# Use a for loop to print the pattern\n",
    "for i in range(3):\n",
    "    print(\"\\\\ /\")\n",
    "    print(\"/ \\\\\")\n",
    "\n",
    "# Print the last line\n",
    "print(\"+ +\")"
   ]
  },
  {
   "cell_type": "markdown",
   "id": "9c890f46",
   "metadata": {},
   "source": [
    "Write a program to produce the following output using for loop"
   ]
  },
  {
   "cell_type": "code",
   "execution_count": 2,
   "id": "c6cc3796",
   "metadata": {},
   "outputs": [
    {
     "name": "stdout",
     "output_type": "stream",
     "text": [
      "**********\n",
      "**********\n",
      "**********\n",
      "**********\n",
      "**********\n"
     ]
    }
   ],
   "source": [
    "# Define the number of rows\n",
    "num_rows = 5\n",
    "\n",
    "# Use a for loop to print the pattern\n",
    "for i in range(num_rows):\n",
    "    print(\"*\" * 10)"
   ]
  },
  {
   "cell_type": "markdown",
   "id": "3e0fb98b",
   "metadata": {},
   "source": [
    "Complete the code for the following for loop: for in range(1,7): //your code here so that it prints the following numbers, one per line: a) 1 b) 2 c) 4 d) 30 e) -7 f) 97 g) -4 2 4 19 20 -3 94 14 3 6 34 10 1 91 32 4 8 49 0 5 88 50 5 10 64 -10 9 85 68 6 12 79 -20 13 82 86"
   ]
  },
  {
   "cell_type": "code",
   "execution_count": 3,
   "id": "7b771f50",
   "metadata": {},
   "outputs": [
    {
     "name": "stdout",
     "output_type": "stream",
     "text": [
      "a) 1\tb) 2\tc) 14\td) 0\te) -3\tf) 91\tg) -4\n",
      "a) 2\tb) 4\tc) 29\td) 10\te) -5\tf) 94\tg) 14\n",
      "a) 3\tb) 6\tc) 44\td) 20\te) -7\tf) 97\tg) 32\n",
      "a) 4\tb) 8\tc) 59\td) 30\te) -9\tf) 100\tg) 50\n",
      "a) 5\tb) 10\tc) 74\td) 40\te) -11\tf) 103\tg) 68\n",
      "a) 6\tb) 12\tc) 89\td) 50\te) -13\tf) 106\tg) 86\n"
     ]
    }
   ],
   "source": [
    "for i in range(1, 7):\n",
    "    # Calculate the values based on the given conditions\n",
    "    a = i\n",
    "    b = 2 * i\n",
    "    c = 15 * i - 1\n",
    "    d = 10 * i - 10\n",
    "    e = -2 * i - 1\n",
    "    f = 3 * i + 88\n",
    "    g = 18 * i - 22\n",
    "    \n",
    "    # Print the values for each iteration\n",
    "    print(f\"a) {a}\\tb) {b}\\tc) {c}\\td) {d}\\te) {e}\\tf) {f}\\tg) {g}\")"
   ]
  },
  {
   "cell_type": "markdown",
   "id": "cb110d1a",
   "metadata": {},
   "source": [
    "Write a program to produce the following output using for loops. Then use a class constant to make it possible to change the number of lines in the figure. 1 22 333 4444 55555 666666 7777777"
   ]
  },
  {
   "cell_type": "code",
   "execution_count": 4,
   "id": "c31a8299",
   "metadata": {},
   "outputs": [
    {
     "name": "stdout",
     "output_type": "stream",
     "text": [
      "1\n",
      "22\n",
      "333\n",
      "4444\n",
      "55555\n",
      "666666\n",
      "7777777\n"
     ]
    }
   ],
   "source": [
    "class PatternPrinter:\n",
    "    # Class constant to control the number of lines\n",
    "    NUM_LINES = 7\n",
    "\n",
    "    def print_pattern(self):\n",
    "        for i in range(1, self.NUM_LINES + 1):\n",
    "            for j in range(i):\n",
    "                print(i, end=\"\")\n",
    "            print()\n",
    "\n",
    "# Create an instance of the class\n",
    "printer = PatternPrinter()\n",
    "\n",
    "# Call the method to print the pattern\n",
    "printer.print_pattern()"
   ]
  },
  {
   "cell_type": "markdown",
   "id": "18e334b9",
   "metadata": {},
   "source": [
    "5.Write a method named pay that accepts two parameters: a real number for a TA's salary, and an integer for the number of hours the TA worked this week. The method should return how much money to pay the TA. For example, the call pay(5.50, 6) should return 33.0. The TA should receive \"overtime\" pay of 1 ½ normal salary for any hours above 8. For example, the call pay(4.00, 11) should return (4.00 * 8) + (6.00 * 3) or 50.0."
   ]
  },
  {
   "cell_type": "code",
   "execution_count": 5,
   "id": "ed92ac03",
   "metadata": {},
   "outputs": [
    {
     "name": "stdout",
     "output_type": "stream",
     "text": [
      "33.0\n",
      "50.0\n"
     ]
    }
   ],
   "source": [
    "def pay(salary, hours_worked):\n",
    "    regular_hours = 8\n",
    "    overtime_multiplier = 1.5\n",
    "\n",
    "    if hours_worked <= regular_hours:\n",
    "        # Regular hours only\n",
    "        total_pay = salary * hours_worked\n",
    "    else:\n",
    "        # Regular hours plus overtime\n",
    "        regular_pay = salary * regular_hours\n",
    "        overtime_pay = salary * overtime_multiplier * (hours_worked - regular_hours)\n",
    "        total_pay = regular_pay + overtime_pay\n",
    "\n",
    "    return total_pay\n",
    "\n",
    "# Example usage:\n",
    "result = pay(5.50, 6)\n",
    "print(result)  # Output: 33.0\n",
    "\n",
    "result_overtime = pay(4.00, 11)\n",
    "print(result_overtime)  # Output: 50.0\n"
   ]
  },
  {
   "cell_type": "markdown",
   "id": "fbc08c22",
   "metadata": {},
   "source": [
    "6.Consider the following method for converting milliseconds into days: // converts milliseconds to days def toDays(millis): return millis / 1000.0 / 60.0 / 60.0 / 24.0 Write a similar method named area that takes as a parameter the radius of a circle and that returns the area of the circle. For example, the call area(2.0); should return 12.566370614359172. Recall that area can be computed as π times the radius squared and that Python has a constant called math.pi"
   ]
  },
  {
   "cell_type": "code",
   "execution_count": 6,
   "id": "88a99f4f",
   "metadata": {},
   "outputs": [
    {
     "name": "stdout",
     "output_type": "stream",
     "text": [
      "12.566370614359172\n"
     ]
    }
   ],
   "source": [
    "import math\n",
    "\n",
    "def area(radius):\n",
    "    return math.pi * radius**2\n",
    "\n",
    "# Example call:\n",
    "result = area(2.0)\n",
    "print(result)"
   ]
  },
  {
   "cell_type": "markdown",
   "id": "941c7a73",
   "metadata": {},
   "source": [
    "7.Copy\tand\tpaste\tthe\tfollowing\tcode\tinto\tpythons\tIDLE\tscript environment.\n",
    "low = 1 high = 1001 sum = 0 for i in range(low,high): sum += i\n",
    "print(\"sum = \" , sum)\n",
    "\n",
    "Modify the code to use a input to prompt the user for the values of low and high. Below is a sample execution in which the user asks for the same values as in the original program (1 through 1000): low? 1 high? 1001 sum = 500500 Below is an execution with different values for low and high: low? 300 high? 5298 sum = 13986903 You should exactly reproduce this format."
   ]
  },
  {
   "cell_type": "code",
   "execution_count": 7,
   "id": "22f7bc7b",
   "metadata": {},
   "outputs": [
    {
     "name": "stdout",
     "output_type": "stream",
     "text": [
      "low? 300\n",
      "high? 5298\n",
      "sum = 13986903\n"
     ]
    }
   ],
   "source": [
    "low = int(input(\"low? \"))\n",
    "high = int(input(\"high? \"))\n",
    "sum_result = 0\n",
    "\n",
    "for i in range(low, high):\n",
    "    sum_result += i\n",
    "\n",
    "print(\"sum =\", sum_result)"
   ]
  },
  {
   "cell_type": "code",
   "execution_count": null,
   "id": "92b7dc77",
   "metadata": {},
   "outputs": [],
   "source": [
    "Write a program using while loop that prompts the user for numbers until the user types 0, then outputs their sum"
   ]
  },
  {
   "cell_type": "code",
   "execution_count": 8,
   "id": "ba50b80c",
   "metadata": {},
   "outputs": [
    {
     "name": "stdout",
     "output_type": "stream",
     "text": [
      "Enter a number (type 0 to finish): 70\n",
      "Enter a number (type 0 to finish): 30\n",
      "Enter a number (type 0 to finish): 98\n",
      "Enter a number (type 0 to finish): 0\n",
      "Sum of the entered numbers: 198.0\n"
     ]
    }
   ],
   "source": [
    "# Initialize sum\n",
    "sum_of_numbers = 0\n",
    "\n",
    "# Prompt the user for numbers until 0 is entered\n",
    "while True:\n",
    "    # Get input from the user\n",
    "    user_input = float(input(\"Enter a number (type 0 to finish): \"))\n",
    "    \n",
    "    # Check if the user wants to exit\n",
    "    if user_input == 0:\n",
    "        break\n",
    "    \n",
    "    # Add the input to the sum\n",
    "    sum_of_numbers += user_input\n",
    "\n",
    "# Output the sum\n",
    "print(\"Sum of the entered numbers:\", sum_of_numbers)"
   ]
  },
  {
   "cell_type": "markdown",
   "id": "e76955a2",
   "metadata": {},
   "source": [
    "9. Write a program using while loop that prompts the user for numbers until the user types -1, then outputs their sum."
   ]
  },
  {
   "cell_type": "code",
   "execution_count": 1,
   "id": "16ed9a90",
   "metadata": {},
   "outputs": [
    {
     "name": "stdout",
     "output_type": "stream",
     "text": [
      "Enter a number (type -1 to finish): 2\n",
      "Enter a number (type -1 to finish): 1\n",
      "Enter a number (type -1 to finish): 3\n",
      "Enter a number (type -1 to finish): -1\n",
      "Sum of the entered numbers: 6.0\n"
     ]
    }
   ],
   "source": [
    "# Initialize sum\n",
    "sum_of_numbers = 0\n",
    " \n",
    "# Prompt the user for numbers until -1 is entered\n",
    "while True:\n",
    "    # Get input from the user\n",
    "    user_input = float(input(\"Enter a number (type -1 to finish): \"))\n",
    "    # Check if the user wants to exit\n",
    "    if user_input == -1:\n",
    "        break\n",
    "    # Add the input to the sum\n",
    "    sum_of_numbers += user_input\n",
    " \n",
    "# Output the sum\n",
    "print(\"Sum of the entered numbers:\", sum_of_numbers)\n"
   ]
  },
  {
   "cell_type": "markdown",
   "id": "7d50e12c",
   "metadata": {},
   "source": [
    "10.Write a method named repl that accepts a String and a number of repetitions as parameters and returns the String concatenated that many times. For example, the call repl(\"hello\", 3) returns \"hellohellohello\". If the number of repetitions is 0 or less, an empty string is returned."
   ]
  },
  {
   "cell_type": "code",
   "execution_count": 2,
   "id": "a8b90f35",
   "metadata": {},
   "outputs": [
    {
     "name": "stdout",
     "output_type": "stream",
     "text": [
      "hellohellohello\n",
      "\n",
      "\n"
     ]
    }
   ],
   "source": [
    "def repl(s, repetitions):\n",
    "    if repetitions <= 0:\n",
    "        return \"\"\n",
    "    else:\n",
    "        return s * repetitions\n",
    "\n",
    "# Example usage:\n",
    "result = repl(\"hello\", 3)\n",
    "print(result)  # Output: \"hellohellohello\"\n",
    "\n",
    "# Test with repetitions less than or equal to 0\n",
    "result_zero_repetitions = repl(\"example\", 0)\n",
    "result_negative_repetitions = repl(\"world\", -2)\n",
    "\n",
    "print(result_zero_repetitions)  # Output: \"\"\n",
    "print(result_negative_repetitions)  # Output: \"\""
   ]
  },
  {
   "cell_type": "markdown",
   "id": "1986c54d",
   "metadata": {},
   "source": [
    "Write a method called printRange that accepts two integers as arguments and prints the sequence of numbers between the two arguments, separated by spaces. Print an increasing sequence if the first argument is smaller than the second; otherwise, print a decreasing sequence. If the two numbers are the same, that number should be printed by itself. Here are some sample calls to printRange: printRange(2, 7) printRange(19, 11) printRange(5, 5) The output produced should be the following: 2 3 4 5 6 7 19 18 17 16 15 14 13 12 11 5"
   ]
  },
  {
   "cell_type": "code",
   "execution_count": 3,
   "id": "430959b1",
   "metadata": {},
   "outputs": [
    {
     "name": "stdout",
     "output_type": "stream",
     "text": [
      "2 3 4 5 6 7 19 18 17 16 15 14 13 12 11 5\n"
     ]
    }
   ],
   "source": [
    "def printRange(start, end):\n",
    "    if start < end:\n",
    "        # Increasing sequence\n",
    "        for i in range(start, end + 1):\n",
    "            print(i, end=\" \")\n",
    "    elif start > end:\n",
    "        # Decreasing sequence\n",
    "        for i in range(start, end - 1, -1):\n",
    "            print(i, end=\" \")\n",
    "    else:\n",
    "        # Numbers are the same\n",
    "        print(start)\n",
    "\n",
    "# Example calls to printRange\n",
    "printRange(2, 7)\n",
    "printRange(19, 11)\n",
    "printRange(5, 5)"
   ]
  },
  {
   "cell_type": "markdown",
   "id": "06f050fd",
   "metadata": {},
   "source": [
    "12.Write a method named smallestLargest that asks the user to enter numbers, then prints the smallest and largest of all the numbers typed in by the user. You may assume the user enters a valid number greater than 0 for the number of numbers to read. Here is an example dialogue: How many numbers do you want to enter? 4 Number 1: 5 Number 2: 11 Number 3: -2 Number 4: 3 Smallest = -2 Largest = 11"
   ]
  },
  {
   "cell_type": "code",
   "execution_count": 4,
   "id": "096b5269",
   "metadata": {},
   "outputs": [
    {
     "name": "stdout",
     "output_type": "stream",
     "text": [
      "How many numbers do you want to enter? 4\n",
      "Number 1: 4\n",
      "Number 2: 4\n",
      "Number 3: 4\n",
      "Number 4: 4\n",
      "\n",
      "Smallest = 4.0\n",
      "Largest = 4.0\n"
     ]
    }
   ],
   "source": [
    "def smallestLargest():\n",
    "    # Ask the user for the number of numbers to enter\n",
    "    num_of_numbers = int(input(\"How many numbers do you want to enter? \"))\n",
    "    \n",
    "    # Initialize variables for smallest and largest\n",
    "    smallest = float('inf')  # Set to positive infinity initially\n",
    "    largest = float('-inf')  # Set to negative infinity initially\n",
    "    \n",
    "    # Prompt the user to enter numbers and update smallest and largest\n",
    "    for i in range(1, num_of_numbers + 1):\n",
    "        number = float(input(f\"Number {i}: \"))\n",
    "        smallest = min(smallest, number)\n",
    "        largest = max(largest, number)\n",
    "    \n",
    "    # Print the smallest and largest\n",
    "    print(f\"\\nSmallest = {smallest}\\nLargest = {largest}\")\n",
    "\n",
    "# Call the method\n",
    "smallestLargest()"
   ]
  },
  {
   "cell_type": "markdown",
   "id": "e60b7c9b",
   "metadata": {},
   "source": [
    "13.Write a method called printAverage that uses a sentinel loop to repeatedly prompt the user for numbers. Once the user types any number less than zero, the method should display the average of all nonnegative numbers typed. Display the average as a double. Here is a sample dialogue with the user: Type a number: 7 Type a number: 4 Type a number: 16 Type a number: –4 Average was 9.0 If the first number that the user types is negative, do not print an average: Type a number: –2"
   ]
  },
  {
   "cell_type": "code",
   "execution_count": 5,
   "id": "78c12307",
   "metadata": {},
   "outputs": [
    {
     "name": "stdout",
     "output_type": "stream",
     "text": [
      "Type a number: 1\n",
      "Type a number: 2\n",
      "Type a number: 3\n",
      "Type a number: 6\n",
      "Type a number: 2\n",
      "Type a number: 1\n",
      "Type a number: -1\n",
      "Average was 2.5\n"
     ]
    }
   ],
   "source": [
    "def printAverage():\n",
    "    # Initialize variables for sum and count\n",
    "    total = 0\n",
    "    count = 0\n",
    "    \n",
    "    while True:\n",
    "        # Get input from the user\n",
    "        number = float(input(\"Type a number: \"))\n",
    "        \n",
    "        # Check if the number is negative\n",
    "        if number < 0:\n",
    "            break\n",
    "        \n",
    "        # Add the nonnegative number to the sum and update the count\n",
    "        total += number\n",
    "        count += 1\n",
    "    \n",
    "    # Check if there are nonnegative numbers entered\n",
    "    if count > 0:\n",
    "        # Calculate and print the average\n",
    "        average = total / count\n",
    "        print(f\"Average was {average:.1f}\")\n",
    "    else:\n",
    "        # No nonnegative numbers entered\n",
    "        print(\"No nonnegative numbers entered.\")\n",
    "\n",
    "# Call the method\n",
    "printAverage()"
   ]
  },
  {
   "cell_type": "markdown",
   "id": "9639317b",
   "metadata": {},
   "source": [
    "14.Write a method named numUnique that takes three integers as parameters and returns the number of unique integers among the three. For example, the call numUnique(18, 3, 4) should return 3 because the parameters have three different values. By contrast, the call numUnique(6, 7, 6) should return 2 because there are only two unique numbers among the three parameters: 6 and 7."
   ]
  },
  {
   "cell_type": "code",
   "execution_count": 6,
   "id": "8145bdef",
   "metadata": {},
   "outputs": [
    {
     "name": "stdout",
     "output_type": "stream",
     "text": [
      "3\n",
      "2\n"
     ]
    }
   ],
   "source": [
    "def numUnique(a, b, c):\n",
    "    # Use a set to count unique integers\n",
    "    unique_numbers = set([a, b, c])\n",
    "    return len(unique_numbers)\n",
    "\n",
    "# Example calls:\n",
    "result1 = numUnique(18, 3, 4)\n",
    "result2 = numUnique(6, 7, 6)\n",
    "\n",
    "print(result1)  # Output: 3\n",
    "print(result2)  # Output: 2"
   ]
  },
  {
   "cell_type": "code",
   "execution_count": null,
   "id": "31b40adb",
   "metadata": {},
   "outputs": [],
   "source": [
    "15.A Random object generates pseudo-random numbers. Find out how to use the Random class and write a program that simulates rolling of two 6- sided dice until their combined result comes up as 7. One possible output can be seen as below:\n",
    "2 + 4 = 6 3 + 5 = 8 5 + 6 = 11 1 + 1 = 2 4 + 3 = 7 You won after 5 tries!"
   ]
  },
  {
   "cell_type": "code",
   "execution_count": 7,
   "id": "6a32af8c",
   "metadata": {},
   "outputs": [
    {
     "name": "stdout",
     "output_type": "stream",
     "text": [
      "6 + 4 = 10\n",
      "4 + 6 = 10\n",
      "6 + 3 = 9\n",
      "3 + 2 = 5\n",
      "1 + 6 = 7\n",
      "You won after 5 tries!\n"
     ]
    }
   ],
   "source": [
    "import random\n",
    "\n",
    "def roll_dice():\n",
    "    return random.randint(1, 6)\n",
    "\n",
    "def simulate_dice_rolling():\n",
    "    tries = 0\n",
    "\n",
    "    while True:\n",
    "        # Roll two dice\n",
    "        die1 = roll_dice()\n",
    "        die2 = roll_dice()\n",
    "\n",
    "        # Print the result\n",
    "        print(f\"{die1} + {die2} = {die1 + die2}\")\n",
    "\n",
    "        # Check if the combined result is 7\n",
    "        if die1 + die2 == 7:\n",
    "            print(f\"You won after {tries + 1} tries!\")\n",
    "            break\n",
    "\n",
    "        # Increment the number of tries\n",
    "        tries += 1\n",
    "\n",
    "# Simulate rolling the dice\n",
    "simulate_dice_rolling()"
   ]
  }
 ],
 "metadata": {
  "kernelspec": {
   "display_name": "Python 3 (ipykernel)",
   "language": "python",
   "name": "python3"
  },
  "language_info": {
   "codemirror_mode": {
    "name": "ipython",
    "version": 3
   },
   "file_extension": ".py",
   "mimetype": "text/x-python",
   "name": "python",
   "nbconvert_exporter": "python",
   "pygments_lexer": "ipython3",
   "version": "3.11.5"
  }
 },
 "nbformat": 4,
 "nbformat_minor": 5
}
