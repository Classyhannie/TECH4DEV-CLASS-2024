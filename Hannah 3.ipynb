{
 "cells": [
  {
   "cell_type": "markdown",
   "id": "25f8250c",
   "metadata": {},
   "source": [
    "1.What is the output of the following print statements?\n",
    "print(\"\\ta\\tb\\tc\") print(\"\\\\\") print(\"'\")\n",
    "print(\"\"\"\"\")\n",
    "\n",
    "print(\"C:\\nin\\the downward spiral\")"
   ]
  },
  {
   "cell_type": "code",
   "execution_count": 2,
   "id": "aee16b47",
   "metadata": {},
   "outputs": [
    {
     "name": "stdout",
     "output_type": "stream",
     "text": [
      "\ta\tb\tc\n",
      "\\\\\n",
      "'\n",
      "\"\"\"\n",
      "C:\n",
      "in\the downward spiral\n"
     ]
    }
   ],
   "source": [
    "print(\"\\ta\\tb\\tc\") \n",
    "\n",
    "print(\"\\\\\\\\\")\n",
    "\n",
    "print(\"'\")\n",
    "\n",
    "print(\"\\\"\\\"\\\"\")\n",
    "\n",
    "print(\"C:\\nin\\the downward spiral\")"
   ]
  },
  {
   "cell_type": "markdown",
   "id": "95be2d3a",
   "metadata": {},
   "source": [
    "2.Write a print statement to produce this output:\n",
    "/ \\ // \\ /// \\\\"
   ]
  },
  {
   "cell_type": "code",
   "execution_count": 4,
   "id": "b6d15101",
   "metadata": {},
   "outputs": [
    {
     "name": "stdout",
     "output_type": "stream",
     "text": [
      "/ \\ // \\\\ /// \\\\\\\n"
     ]
    }
   ],
   "source": [
    "print(\"/ \\\\ // \\\\\\\\ /// \\\\\\\\\\\\\")\n"
   ]
  },
  {
   "cell_type": "markdown",
   "id": "75af0ad2",
   "metadata": {},
   "source": [
    "3.What print statements will generate this output?\n",
    "This quote is from Irish poet Oscar Wilde: \"Music makes one feel so romantic\n",
    "at least it always gets on one's nerves – which is the same thing nowadays.\""
   ]
  },
  {
   "cell_type": "code",
   "execution_count": 5,
   "id": "2519e31f",
   "metadata": {},
   "outputs": [
    {
     "name": "stdout",
     "output_type": "stream",
     "text": [
      "This quote is from Irish poet Oscar Wilde:\n",
      "\"Music makes one feel so romantic\n",
      "\n",
      "- at least it always gets on one's nerves – which is the same thing nowadays.\"\n"
     ]
    }
   ],
   "source": [
    "print('This quote is from Irish poet Oscar Wilde:')\n",
    "print('\"Music makes one feel so romantic\\n\\n- at least it always gets on one\\'s nerves – which is the same thing nowadays.\"')\n"
   ]
  },
  {
   "cell_type": "markdown",
   "id": "22f7a75f",
   "metadata": {},
   "source": [
    "4.What print statements will generate this output?\n",
    "A \"quoted\" String is 'much' better if you learn the rules of \"escape sequences.\" Also, \"\" represents an empty String. Don't forget: use \" instead of \" ! '' is not the same as \""
   ]
  },
  {
   "cell_type": "code",
   "execution_count": 6,
   "id": "4572c6c9",
   "metadata": {},
   "outputs": [
    {
     "name": "stdout",
     "output_type": "stream",
     "text": [
      "A \"quoted\" String is 'much' better if you learn\n",
      "the rules of \"escape sequences.\" Also, \"\" represents an empty String. Don't forget: use \\\" instead of \" ! '' is not the same as \"\n"
     ]
    }
   ],
   "source": [
    "print('A \"quoted\" String is \\'much\\' better if you learn\\nthe rules of \"escape sequences.\" Also, \"\" represents an empty String. Don\\'t forget: use \\\\\" instead of \" ! \\'\\' is not the same as \"')"
   ]
  },
  {
   "cell_type": "code",
   "execution_count": null,
   "id": "ecf2e42c",
   "metadata": {},
   "outputs": [],
   "source": [
    "5.What values result from the following expressions?\n",
    "– 9 / 5 – 695 % 20 – 7 + 6 * 5 – 7 * 6 + 5 – 248 % 100 / 5 – 6 * 3 - 9 / 4 – (5 - 7) * 4 – 6 + (18 % (17 - 12))"
   ]
  },
  {
   "cell_type": "code",
   "execution_count": 7,
   "id": "468d4f51",
   "metadata": {
    "scrolled": true
   },
   "outputs": [
    {
     "name": "stdout",
     "output_type": "stream",
     "text": [
      "1.8\n",
      "15\n",
      "37\n",
      "47\n",
      "9.6\n",
      "15.75\n",
      "-8\n",
      "9\n"
     ]
    }
   ],
   "source": [
    "print(9/5)\n",
    "print(695 % 20)\n",
    "print(7+6*5)\n",
    "print(7*6+5)\n",
    "print(248 % 100 / 5)\n",
    "print(6 * 3 - 9 / 4)\n",
    "print((5 - 7) * 4)\n",
    "print(6 + (18 % (17 - 12)))"
   ]
  }
 ],
 "metadata": {
  "kernelspec": {
   "display_name": "Python 3 (ipykernel)",
   "language": "python",
   "name": "python3"
  },
  "language_info": {
   "codemirror_mode": {
    "name": "ipython",
    "version": 3
   },
   "file_extension": ".py",
   "mimetype": "text/x-python",
   "name": "python",
   "nbconvert_exporter": "python",
   "pygments_lexer": "ipython3",
   "version": "3.11.5"
  }
 },
 "nbformat": 4,
 "nbformat_minor": 5
}
